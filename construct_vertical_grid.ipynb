{
 "cells": [
  {
   "cell_type": "markdown",
   "id": "obvious-actor",
   "metadata": {},
   "source": [
    "### Construct a vertical grid following Stewart et al. (2017)\n",
    "This script is adapted from the [Stewart et al., 2017](https://github.com/kialstewart/vertical_grid_for_ocean_models/blob/master/build_vertical_grid_kds.py) script to construct a grid used with the MITgcm. The values of `drF` are to be copied to the `input/data` namelist. Additionally, a netcdf file is created for reference."
   ]
  },
  {
   "cell_type": "code",
   "execution_count": 1,
   "id": "logical-gates",
   "metadata": {},
   "outputs": [],
   "source": [
    "import numpy as np\n",
    "import xarray as xr\n",
    "from matplotlib import pyplot as plt\n",
    "import ipywidgets as widgets\n",
    "from ipywidgets import interact, interact_manual"
   ]
  },
  {
   "cell_type": "markdown",
   "id": "periodic-minnesota",
   "metadata": {},
   "source": [
    "Choose some parameters for the vertical grid"
   ]
  },
  {
   "cell_type": "code",
   "execution_count": 2,
   "id": "smoking-label",
   "metadata": {},
   "outputs": [],
   "source": [
    "# Maximum depth (meters) of the grid\n",
    "H = 4000.0\n",
    "\n",
    "# Maximum grid spacing (meters) in the deep ocean\n",
    "dzd = 100.0\n",
    "\n",
    "# Minimum grid spacing (meters) at the surface\n",
    "min_dz = 1.0\n",
    "\n",
    "# Sharpness of the hyperbolic tangent (initial value should be adjusted)\n",
    "depfac = 1.00\n",
    "\n",
    "# Name of the file to be written that contains the grid\n",
    "output_name = \"vertical_grid.nc\""
   ]
  },
  {
   "cell_type": "markdown",
   "id": "moderate-chess",
   "metadata": {},
   "source": [
    "### Build the grid\n",
    "First, define the functional form of the vertical grid."
   ]
  },
  {
   "cell_type": "code",
   "execution_count": 3,
   "id": "inside-count",
   "metadata": {},
   "outputs": [],
   "source": [
    "# the function is {tanh(pi*m/H)*dz_max + epsilon}, which is epsilon at the surface and dz_max at H\n",
    "def f_all(kk, H, depfac, dzd, epsilon):\n",
    "    return np.tanh(np.pi * ((kk) / (H * depfac))) * (dzd) + epsilon "
   ]
  },
  {
   "cell_type": "markdown",
   "id": "auburn-aurora",
   "metadata": {},
   "source": [
    "This is where the magic happens: an iterative process that takes a step from the current end (deepest point) of the grid along the function to find the next point. After that, we need to relocate the initial grid vertically so that the grid spacing at the surface is min_dz. All this is done in a function so we can interactively change the paraemters later."
   ]
  },
  {
   "cell_type": "code",
   "execution_count": 4,
   "id": "public-castle",
   "metadata": {},
   "outputs": [],
   "source": [
    "# this is a small number needed to begin the iteration\n",
    "epsilon = 0.001\n",
    "# Then, make the first two entries of the initial grid; these will be 0 and epsilon for both z and dz.\n",
    "delta_z = [0, epsilon * 1.0]\n",
    "prop_z = [0, epsilon * 1.0]\n",
    "while prop_z[-1] + delta_z[-1] < 1.2 * H:\n",
    "    aa = np.linspace(1.0, 1.5, 10000)\n",
    "    bb = np.zeros([len(aa)])\n",
    "    loopkill = 1.0\n",
    "    ii = 0\n",
    "    while loopkill > 0:\n",
    "        bb[ii] = (f_all(prop_z[-1] + (delta_z[-1] * aa[ii]), H, depfac, dzd, epsilon)) - (delta_z[-1] * aa[ii])\n",
    "        loopkill = bb[ii]\n",
    "        ii += 1\n",
    "    aa_bb = np.polyfit(aa[:ii-1], bb[:ii-1], 1)\n",
    "    dznew = (delta_z[-1] * (np.abs(aa_bb[1] / aa_bb[0])))\n",
    "    delta_z = np.append(delta_z, dznew)\n",
    "    prop_z = np.append(prop_z, (prop_z[-1] + delta_z[-1]))"
   ]
  },
  {
   "cell_type": "code",
   "execution_count": 5,
   "id": "compatible-climb",
   "metadata": {},
   "outputs": [],
   "source": [
    "def con_grid(H, min_dz, depfac, dzd):\n",
    "    # this is a small number needed to begin the iteration\n",
    "    epsilon = 0.001\n",
    "    # Then, make the first two entries of the initial grid; these will be 0 and epsilon for both z and dz.\n",
    "    delta_z = [0, epsilon * 1.0]\n",
    "    prop_z = [0, epsilon * 1.0]\n",
    "    while prop_z[-1] + delta_z[-1] < 1.2 * H:\n",
    "        aa = np.linspace(1.0, 1.5, 10000)\n",
    "        bb = np.zeros([len(aa)])\n",
    "        loopkill = 1.0\n",
    "        ii = 0\n",
    "        while loopkill > 0:\n",
    "            bb[ii] = (f_all(prop_z[-1] + (delta_z[-1] * aa[ii]), H, depfac, dzd, epsilon)) - (delta_z[-1] * aa[ii])\n",
    "            loopkill = bb[ii]\n",
    "            ii += 1\n",
    "        aa_bb = np.polyfit(aa[:ii-1], bb[:ii-1], 1)\n",
    "        dznew = (delta_z[-1] * (np.abs(aa_bb[1] / aa_bb[0])))\n",
    "        delta_z = np.append(delta_z, dznew)\n",
    "        prop_z = np.append(prop_z, (prop_z[-1] + delta_z[-1]))\n",
    "    # find where the initial grid is min_dz (the surface resolution)\n",
    "    new_surf = np.max(np.where(delta_z <= min_dz)) \n",
    "    # make a new grid that shifts the initial grid vertically\n",
    "    real_prop_z = prop_z[new_surf:] - prop_z[new_surf] \n",
    "    # make a new dz for this new grid\n",
    "    real_delta_z = delta_z[new_surf + 1:] \n",
    "    # cut the new grid off at desired depth, H\n",
    "    real_prop_z = real_prop_z[np.where(real_prop_z < H)]\n",
    "    # and the new dz too\n",
    "    real_delta_z = real_delta_z[np.where(real_prop_z < H)]\n",
    "    return real_prop_z, real_delta_z"
   ]
  },
  {
   "cell_type": "code",
   "execution_count": 6,
   "id": "official-stream",
   "metadata": {},
   "outputs": [],
   "source": [
    "def plot_sub(ax, x, lim, color):\n",
    "    ax.scatter(x, np.arange(0, -len(x), -1), marker=\"+\", color=color)\n",
    "    ax.set_ylim(-lim, 0)\n",
    "    ax.grid()"
   ]
  },
  {
   "cell_type": "code",
   "execution_count": 7,
   "id": "through-insurance",
   "metadata": {},
   "outputs": [],
   "source": [
    "H_widget = widgets.IntSlider(min=100, max=10000, value=H, step=100)\n",
    "min_dz_widget = widgets.IntSlider(min=1, max=10, value=min_dz)\n",
    "dzd_widget = widgets.IntSlider(min=10, max=500, value=dzd, step=10)\n",
    "depfac_widget = widgets.FloatSlider(min=0.7, max=1.3, value=depfac, step=0.01)\n",
    "def H_change(v):\n",
    "    global H\n",
    "    H = v[\"new\"]\n",
    "H_widget.observe(H_change, names=\"value\")\n",
    "def min_dz_change(v):\n",
    "    global min_dz\n",
    "    min_dz = v[\"new\"]\n",
    "min_dz_widget.observe(min_dz_change, names=\"value\")\n",
    "def dzd_change(v):\n",
    "    global dzd\n",
    "    dzd = v[\"new\"]\n",
    "dzd_widget.observe(dzd_change, names=\"value\")\n",
    "def depfac_change(v):\n",
    "    global depfac\n",
    "    depfac = v[\"new\"]\n",
    "depfac_widget.observe(depfac_change, names=\"value\")\n"
   ]
  },
  {
   "cell_type": "code",
   "execution_count": 8,
   "id": "statewide-egyptian",
   "metadata": {},
   "outputs": [
    {
     "data": {
      "application/vnd.jupyter.widget-view+json": {
       "model_id": "c264ca87605f4efba096475371e03ab1",
       "version_major": 2,
       "version_minor": 0
      },
      "text/plain": [
       "interactive(children=(IntSlider(value=4000, description='H0', max=10000, min=100, step=100), IntSlider(value=1…"
      ]
     },
     "metadata": {},
     "output_type": "display_data"
    }
   ],
   "source": [
    "@interact_manual\n",
    "def plots(H0=H_widget, min_dz0=min_dz_widget, dzd0=dzd_widget, depfac0=depfac_widget):\n",
    "    real_prop_z, real_delta_z = con_grid(H0, min_dz0, depfac0, dzd0)\n",
    "    #\n",
    "    fig = plt.figure(figsize=(14, 16))\n",
    "    #\n",
    "    ax1 = fig.add_subplot(2, 3, 1)\n",
    "    plot_sub(ax1, real_delta_z, 30, color=\"tomato\")\n",
    "    ax1.set_title(\"dz, vertical grid spacing\")\n",
    "    #\n",
    "    ax2 = fig.add_subplot(2, 3, 2)\n",
    "    plot_sub(ax2, real_prop_z, 30, color=\"steelblue\")\n",
    "    ax2.set_title(\"z, grid levels\")\n",
    "    #\n",
    "    ax3 = fig.add_subplot(2, 3, 3)\n",
    "    ax3.scatter(np.zeros(len(real_prop_z)), -real_prop_z, marker=\"+\", color=\"forestgreen\")\n",
    "    ax3.hlines(-real_prop_z, -1, 1, color=\"slategrey\")\n",
    "    ax3.set_ylim(-100, 0)\n",
    "    ax3.set_title(\"z level positions\")\n",
    "    ax3.set_xticklabels(\"\")\n",
    "    #\n",
    "    ax4 = fig.add_subplot(2, 3, 4)\n",
    "    plot_sub(ax4, real_delta_z, len(real_delta_z), color=\"tomato\")\n",
    "    ax4.set_title(\"dz, vertical grid spacing\")\n",
    "    #\n",
    "    ax5 = fig.add_subplot(2, 3, 5)\n",
    "    plot_sub(ax5, real_prop_z, len(real_delta_z), color=\"steelblue\")\n",
    "    ax5.set_title(\"z, grid levels\")\n",
    "    ax5.set_title(\"z, grid levels\")\n",
    "    #\n",
    "    ax6 = fig.add_subplot(2, 3, 6)\n",
    "    ax6.scatter(np.zeros(len(real_delta_z)), -real_prop_z, marker=\"+\", color=\"forestgreen\")\n",
    "    ax6.hlines(-real_prop_z, -1, 1, color=\"slategrey\")\n",
    "    ax6.set_title(\"z level positions\")\n",
    "    ax6.set_xticklabels(\"\")\n",
    "    #\n",
    "    fig.suptitle(\"Adjusted Grid\", fontsize=20);\n",
    "    fig.subplots_adjust(top=0.93)\n",
    "    print(\"The number of levels is \", str(len(real_delta_z)))\n",
    "    print(\"The surface level is \", str(real_delta_z[0]), \"m thick\")\n",
    "    print(\"The lowest level is \", str(real_delta_z[-1]), \"m thick\")\n",
    "    print(\"The maximum depth is \", str(real_prop_z[-1]), \"m\")"
   ]
  },
  {
   "cell_type": "markdown",
   "id": "short-chosen",
   "metadata": {},
   "source": [
    "Based on which parameters we have chosen in the interactive panel, we now calculate the vertical axis and all the different properties as they would appear in the MITgcm grid output."
   ]
  },
  {
   "cell_type": "code",
   "execution_count": 9,
   "id": "hawaiian-symposium",
   "metadata": {},
   "outputs": [],
   "source": [
    "final_prop_z, final_delta_z = con_grid(H, min_dz, depfac, dzd)"
   ]
  },
  {
   "cell_type": "code",
   "execution_count": 10,
   "id": "affecting-devon",
   "metadata": {},
   "outputs": [],
   "source": [
    "Z = -(final_prop_z + final_delta_z/2)\n",
    "Zp1 = -np.append(final_prop_z[:], final_prop_z[-1] + final_delta_z[-1])\n",
    "Zu = -np.append(final_prop_z[1::], final_prop_z[-1] + final_delta_z[-1])\n",
    "Zl = -final_prop_z\n",
    "drC = np.append(np.append(0 - Z[0], Z[0:-1] - Z[1::]), -Zu[-1] + Z[-1])\n",
    "drF = final_delta_z"
   ]
  },
  {
   "cell_type": "code",
   "execution_count": 11,
   "id": "complex-southeast",
   "metadata": {},
   "outputs": [],
   "source": [
    "ds_out = xr.Dataset(coords={\"Z\": ([\"Z\"], Z),\n",
    "                            \"Zp1\": ([\"Zp1\"], Zp1),\n",
    "                            \"Zu\": ([\"Zu\"], Zu),\n",
    "                            \"Zl\": ([\"Zl\"], Zl),\n",
    "                            \"drC\": ([\"Zp1\"], drC),\n",
    "                            \"drF\": ([\"Z\"], drF),\n",
    "                            })\n",
    "ds_out[\"Z\"].attrs = {\"standard_name\": \"depth\", \n",
    "                     \"long_name\": \"vertical coordinate of cell center\",\n",
    "                     \"units\": \"m\",\n",
    "                     \"positive\": \"up\",\n",
    "                     \"axis\": \"Z\"}\n",
    "ds_out[\"Zp1\"].attrs = {\"standard_name\": \"depth_at_w_location\", \n",
    "                       \"long_name\": \"vertical coordinate of cell interface\",\n",
    "                       \"units\": \"m\",\n",
    "                       \"positive\": \"up\",\n",
    "                       \"axis\": \"Z\",\n",
    "                       \"c_grid_axis_shift\": (-0.5, 0.5)}\n",
    "ds_out[\"Zu\"].attrs = {\"standard_name\": \"depth_at_lower_w_location\", \n",
    "                      \"long_name\": \"vertical coordinate of lower cell interface\",\n",
    "                      \"units\": \"m\",\n",
    "                      \"positive\": \"up\",\n",
    "                      \"axis\": \"Z\",\n",
    "                      \"c_grid_axis_shift\": 0.5}\n",
    "ds_out[\"Zl\"].attrs = {\"standard_name\": \"depth_at_upper_w_location\", \n",
    "                      \"long_name\": \"vertical coordinate of upper cell interface\",\n",
    "                      \"units\": \"m\",\n",
    "                      \"positive\": \"up\",\n",
    "                      \"axis\": \"Z\",\n",
    "                      \"c_grid_axis_shift\": -0.5}\n",
    "ds_out[\"drC\"].attrs = {\"standard_name\": \"cell_z_size_at_w_location\", \n",
    "                       \"long_name\": \"cell z size\",\n",
    "                       \"units\": \"m\"}\n",
    "ds_out[\"drF\"].attrs = {\"standard_name\": \"cell_z_size\", \n",
    "                       \"long_name\": \"cell z size\",\n",
    "                       \"units\": \"m\"}\n",
    "ds_out.attrs = {\"input maximum depth H\": str(H),\n",
    "                \"actual maximum depth\": str(-np.min(Zp1)),\n",
    "                \"input minimum grid spacing min_dz\": str(min_dz),\n",
    "                \"actual minimum grid spacing\": str(np.min(drF)),\n",
    "                \"input maximum grid spazing dzd\": str(dzd),\n",
    "                \"actual maximum grid spacing\": str(np.max(drF)),\n",
    "                \"input factor depfac\": str(depfac)}\n"
   ]
  },
  {
   "cell_type": "code",
   "execution_count": 12,
   "id": "moderate-olympus",
   "metadata": {},
   "outputs": [],
   "source": [
    "ds_out.to_netcdf(output_name)"
   ]
  },
  {
   "cell_type": "code",
   "execution_count": null,
   "id": "administrative-juvenile",
   "metadata": {},
   "outputs": [],
   "source": []
  }
 ],
 "metadata": {
  "kernelspec": {
   "display_name": "Python 3",
   "language": "python",
   "name": "python3"
  },
  "language_info": {
   "codemirror_mode": {
    "name": "ipython",
    "version": 3
   },
   "file_extension": ".py",
   "mimetype": "text/x-python",
   "name": "python",
   "nbconvert_exporter": "python",
   "pygments_lexer": "ipython3",
   "version": "3.8.5"
  }
 },
 "nbformat": 4,
 "nbformat_minor": 5
}

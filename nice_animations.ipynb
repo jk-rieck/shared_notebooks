{
 "cells": [
  {
   "cell_type": "code",
   "execution_count": 1,
   "metadata": {},
   "outputs": [],
   "source": [
    "import os\n",
    "import xarray as xr\n",
    "import numpy as np\n",
    "import matplotlib\n",
    "from matplotlib import pyplot as plt\n",
    "from matplotlib import colors\n",
    "from cmocean import cm\n",
    "import cartopy.crs as ccrs\n",
    "img = plt.imread('/home/jan/Data/cartopy_images/BlueMarble_TOPO_010_JAN.png')\n",
    "from xmovie import Movie"
   ]
  },
  {
   "cell_type": "markdown",
   "metadata": {},
   "source": [
    "We use Optimum Interpolation Sea Surface Temperature (OISST) v2.1 data provided by NOAA ([link](https://www.ncdc.noaa.gov/oisst/data-access)) for this example.  \n",
    "\n",
    "The background image is taken from the NASA visible earth collection Blue Marble ([link](https://visibleearth.nasa.gov/collection/1484/blue-marble)) "
   ]
  },
  {
   "cell_type": "markdown",
   "metadata": {},
   "source": [
    "First, we need to construct a list with the file names that we want to access. In this case, we want to plot the first month of 2020 but it's easy to extend that to the full year by changing the range of the `for` loop to `range(1, 13)`."
   ]
  },
  {
   "cell_type": "code",
   "execution_count": 2,
   "metadata": {},
   "outputs": [],
   "source": [
    "file_base = \"https://www.ncei.noaa.gov/thredds/dodsC/OisstBase/NetCDF/V2.1/AVHRR/2020\"\n",
    "file_list = []\n",
    "\n",
    "len_mon = [31, 29, 31, 30, 31, 30, 31, 31, 30, 31, 30, 31]\n",
    "for m in range(1, 2):\n",
    "    l_mon = len_mon[m - 1]\n",
    "    m2 = \"%02d\" % m\n",
    "    file_ext = file_base + m2 + \"/oisst-avhrr-v02r01.2020\"\n",
    "    for d in range(1, l_mon + 1):\n",
    "        d2 = \"%02d\" % d\n",
    "        file_list.append(file_ext + str(m2) + str(d2) + \".nc\")"
   ]
  },
  {
   "cell_type": "markdown",
   "metadata": {},
   "source": [
    "We use `xarray` to open all OPENDAP links in `file_list` to have them in one dataset."
   ]
  },
  {
   "cell_type": "code",
   "execution_count": 3,
   "metadata": {},
   "outputs": [],
   "source": [
    "ds = xr.open_mfdataset(file_list)"
   ]
  },
  {
   "cell_type": "markdown",
   "metadata": {},
   "source": [
    "We need to define a new class for the projection to change the `threshold` value in order to draw smooth lines with `plot`"
   ]
  },
  {
   "cell_type": "code",
   "execution_count": 4,
   "metadata": {},
   "outputs": [],
   "source": [
    "class LowerThresholdNearsidePerspective(ccrs.NearsidePerspective):\n",
    "\n",
    "    @property\n",
    "    def threshold(self):\n",
    "        return 1000"
   ]
  },
  {
   "cell_type": "markdown",
   "metadata": {},
   "source": [
    "### Now the animation"
   ]
  },
  {
   "cell_type": "code",
   "execution_count": 6,
   "metadata": {},
   "outputs": [],
   "source": [
    "# First, we define some levels for the colors we want to use in order to create a discrete (and not continuous)\n",
    "# colormap\n",
    "levs = np.arange(-2, 32, 1)\n",
    "norm = colors.BoundaryNorm(boundaries=levs, ncolors=256)\n",
    "# Now we define how long the animation should be\n",
    "len_anim = len(ds.time)\n",
    "\n",
    "# Now define a range of central longitudes (during the animation, the central longitude will vary over this range)\n",
    "cen_lon = np.linspace(-10.0, 50.0, len_anim)\n",
    "cen_lat = np.ones(len_anim) * (-45)\n",
    "\n",
    "# Define the range of satellite heights for a zoom effect\n",
    "min_height = 10000000\n",
    "max_height = 35785831\n",
    "# We will use a cosine for the zoom, so it looks smooth\n",
    "sat_height = (np.cos(np.linspace(0, np.pi, len_anim)) + 2) * np.linspace(max_height/3, min_height, len_anim)\n",
    "\n",
    "# This ratio (some form of assessing how far we zoomed in) is used to set the axis limits for the y axis\n",
    "rat_height = sat_height / max_height\n",
    "rat2_height = rat_height * np.linspace(1, 2, len_anim)\n",
    "ylim_0 = -5500000\n",
    "ylim_1 = 5500000\n",
    "\n",
    "# Then we set up the figure\n",
    "fig = plt.figure(figsize=(6,8), dpi=50) # set `dpi` higher for higher quality saved animations in the end\n",
    "\n",
    "# And create a function that plots the figures (frames) of the animation\n",
    "def plot_frame(data, fig, tt, frame_dim=\"time\"):\n",
    "    # We set up the projection to be used\n",
    "    m1 = fig.add_subplot(1, 1, 1, projection=LowerThresholdNearsidePerspective(central_longitude=cen_lon[tt],\n",
    "                                                                           central_latitude=cen_lat[tt],\n",
    "                                                                           satellite_height=sat_height[tt],\n",
    "                                                                           globe=None))\n",
    "    # Now we display the background image\n",
    "    # You can lower the value of `regrid_shape` to make the plotting faster, however this has negative effects\n",
    "    # on the quality of the displayed background image\n",
    "    m1.imshow(img, origin='upper', transform=ccrs.PlateCarree(),\n",
    "              interpolation='spline36', regrid_shape=400, zorder=1)\n",
    "    # And plot the SST data\n",
    "    map1 = m1.pcolormesh(data.lon, data.lat, data.sst.isel(time=tt).squeeze(),\n",
    "                  cmap=cm.thermal, norm=norm, transform=ccrs.PlateCarree(), zorder=2)\n",
    "    # We add a colorbar and its label\n",
    "    c = plt.colorbar(map1, pad=0.04, shrink=0.4, orientation='horizontal')\n",
    "    c.ax.set_ylabel('$^{\\circ}C$');\n",
    "    # and a title\n",
    "    m1.set_title(\"OISST at \" + str(data.time.isel(time=tt).values)[0:10]);\n",
    "    # Now we plot a line into the map (this could be the region you are interested in)\n",
    "    line1 = m1.plot([30, 70, 70, 30, 30],\n",
    "                    [-35, -35, -50, -50, -35],\n",
    "                    linewidth=2, color='gold', transform=ccrs.PlateCarree(), zorder=3)\n",
    "    # set the latitude limits of the plot. we do that in projection coordinates (m)\n",
    "    # because there are some problems when using latitude\n",
    "    ylim_low = ylim_0 * rat_height[tt]\n",
    "    ylim_high = ylim_1 * rat_height[tt]\n",
    "    m1.set_ylim(ylim_low, ylim_high)\n",
    "    xlim_low = ylim_0 * rat2_height[tt]\n",
    "    xlim_high = ylim_1 * rat2_height[tt]\n",
    "    m1.set_xlim(xlim_low, xlim_high)\n",
    "    #fig.subplots_adjust(left=0.01, right=0.99, bottom=0.01, top=0.9)\n",
    "    return None, None\n",
    "    \n",
    "# And finally, we create the animation\n",
    "mov_custom = Movie(ds, plot_frame, input_check=False)"
   ]
  },
  {
   "cell_type": "code",
   "execution_count": 9,
   "metadata": {},
   "outputs": [],
   "source": [
    "mov_custom.preview(1)"
   ]
  },
  {
   "cell_type": "code",
   "execution_count": null,
   "metadata": {},
   "outputs": [],
   "source": [
    "mov_custom.save('movie_custom.gif', progress=True, remove_movie=False, framerate=10, overwrite_existing=True)"
   ]
  },
  {
   "cell_type": "code",
   "execution_count": null,
   "metadata": {},
   "outputs": [],
   "source": []
  }
 ],
 "metadata": {
  "kernelspec": {
   "display_name": "Python 3",
   "language": "python",
   "name": "python3"
  },
  "language_info": {
   "codemirror_mode": {
    "name": "ipython",
    "version": 3
   },
   "file_extension": ".py",
   "mimetype": "text/x-python",
   "name": "python",
   "nbconvert_exporter": "python",
   "pygments_lexer": "ipython3",
   "version": "3.8.5"
  }
 },
 "nbformat": 4,
 "nbformat_minor": 4
}

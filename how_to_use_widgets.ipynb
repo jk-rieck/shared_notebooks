{
 "cells": [
  {
   "cell_type": "markdown",
   "metadata": {},
   "source": [
    "#### Please read the [docs](https://ipywidgets.readthedocs.io/en/stable/user_install.html) for `ipywidgets` on how to install them."
   ]
  },
  {
   "cell_type": "code",
   "execution_count": 1,
   "metadata": {},
   "outputs": [],
   "source": [
    "import ipywidgets as widgets\n",
    "from ipywidgets import interact, interact_manual\n",
    "from matplotlib import pyplot as plt\n",
    "import numpy as np\n",
    "from cmocean import cm"
   ]
  },
  {
   "cell_type": "markdown",
   "metadata": {},
   "source": [
    "After importing the required modules, we need to construct some data to plot"
   ]
  },
  {
   "cell_type": "code",
   "execution_count": 2,
   "metadata": {},
   "outputs": [],
   "source": [
    "# construct 2D data\n",
    "some_sin = np.array(np.sin(np.linspace(0, np.pi, 20)))\n",
    "some_cos = np.array(np.cos(np.linspace(0, np.pi, 20)))\n",
    "some_data = some_sin[:, None] * some_cos[None, :]\n",
    "\n",
    "# add depth dimension of length `z`\n",
    "z = 8\n",
    "some_data_with_depth = some_data[None, :, :] * np.exp(np.linspace(1, 2, z))[:, None, None]\n",
    "\n",
    "# add time dimension of length `t`\n",
    "t = 10\n",
    "data = some_data_with_depth[None, :, :, :] * np.cos(np.linspace(0, np.pi / 2, t))[:, None, None, None]"
   ]
  },
  {
   "cell_type": "markdown",
   "metadata": {},
   "source": [
    "Say, additionally to explore the data we also want to compare the colormaps of `matplotlib` and `cmocean`. So first we build two widgets, were the second (to choose the colormap) depends on the first (to choose between `matplotlib` and `cmocean`)  \n",
    "\n",
    "This is a bit tricky and we have to put the colormaps into dictionaries for this to work. (If you want to compare colormaps of different packages more often, you can have a look at this [repository](https://github.com/jk-rieck/colormaps_from_palettable))"
   ]
  },
  {
   "cell_type": "code",
   "execution_count": 5,
   "metadata": {},
   "outputs": [],
   "source": [
    "# First, we put the colormaps of the two different packages into a dictionary\n",
    "cmaps = {}\n",
    "cmaps['matplotlib'] = {}\n",
    "cmaps['cmocean'] = {}\n",
    "\n",
    "for m in plt.colormaps():\n",
    "    if m[0:3] != 'cmo':\n",
    "        cmaps['matplotlib'][m] = getattr(plt.cm, m)\n",
    "        \n",
    "for n in plt.colormaps():\n",
    "    if n[0:3] == 'cmo':\n",
    "        n_strp = n[4::]\n",
    "        cmaps['cmocean'][n_strp] = getattr(cm, n_strp)\n",
    "\n",
    "widget1 = widgets.Dropdown(options = {i: j for (i, j) in cmaps.items()})\n",
    "widget2 = widgets.Dropdown()\n",
    "\n",
    "def update(*args):\n",
    "    widget2.options = {k: l for (k, l) in widget1.value.items()}\n",
    "\n",
    "widget1.observe(update)"
   ]
  },
  {
   "cell_type": "markdown",
   "metadata": {},
   "source": [
    "Now construct the interactive plot. We also want to be able to change the time `t`, the depth `z`, as well as the minimum and maximum visible values `vmin` and `vmax`."
   ]
  },
  {
   "cell_type": "code",
   "execution_count": 7,
   "metadata": {},
   "outputs": [
    {
     "data": {
      "application/vnd.jupyter.widget-view+json": {
       "model_id": "814915f8b61a4111b4e8cab4dddf8426",
       "version_major": 2,
       "version_minor": 0
      },
      "text/plain": [
       "interactive(children=(Dropdown(description='pack', index=1, options={'matplotlib': {'Accent': <matplotlib.colo…"
      ]
     },
     "metadata": {},
     "output_type": "display_data"
    }
   ],
   "source": [
    "@interact\n",
    "def contour_plot(pack=widget1,\n",
    "                 cmap=widget2,\n",
    "                 time=widgets.IntSlider(min=0, max=t-1, value=0),\n",
    "                 depth=widgets.IntSlider(min=0, max=z-1, value=0),\n",
    "                 vmin=widgets.FloatSlider(min=-8., max=8., step=0.2, value=-6.),\n",
    "                 vmax=widgets.FloatSlider(min=-8., max=8., step=0.2, value=6.)):\n",
    "    plt.pcolormesh(data[time, depth, :, :], cmap=cmap, vmin=vmin, vmax=vmax)\n",
    "    plt.colorbar()"
   ]
  },
  {
   "cell_type": "code",
   "execution_count": null,
   "metadata": {},
   "outputs": [],
   "source": [
    "plt.cm.items()"
   ]
  },
  {
   "cell_type": "code",
   "execution_count": null,
   "metadata": {},
   "outputs": [],
   "source": []
  }
 ],
 "metadata": {
  "kernelspec": {
   "display_name": "Python 3",
   "language": "python",
   "name": "python3"
  },
  "language_info": {
   "codemirror_mode": {
    "name": "ipython",
    "version": 3
   },
   "file_extension": ".py",
   "mimetype": "text/x-python",
   "name": "python",
   "nbconvert_exporter": "python",
   "pygments_lexer": "ipython3",
   "version": "3.7.8"
  }
 },
 "nbformat": 4,
 "nbformat_minor": 4
}
